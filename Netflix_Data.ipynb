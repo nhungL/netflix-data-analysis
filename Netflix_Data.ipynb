{
 "cells": [
  {
   "cell_type": "markdown",
   "metadata": {},
   "source": [
    "# **Netflix Data Analysis**\n",
    "## Source: https://www.kaggle.com/datasets/shivamb/netflix-shows\n",
    "### *Note: Data as of 2021*"
   ]
  },
  {
   "cell_type": "code",
   "execution_count": 1,
   "metadata": {},
   "outputs": [
    {
     "data": {
      "text/html": [
       "<script>jQuery(function() {if (jQuery(\"body.notebook_app\").length == 0) { jQuery(\".input_area\").toggle(); jQuery(\".prompt\").toggle();}});</script>"
      ]
     },
     "metadata": {},
     "output_type": "display_data"
    },
    {
     "data": {
      "text/html": [
       "<button onclick=\"jQuery('.input_area').toggle(); jQuery('.prompt').toggle();\">Toggle code</button>"
      ]
     },
     "metadata": {},
     "output_type": "display_data"
    }
   ],
   "source": [
    "import IPython.core.display as di\n",
    "\n",
    "# This line will hide code by default when the notebook is exported as HTML\n",
    "di.display_html('<script>jQuery(function() {if (jQuery(\"body.notebook_app\").length == 0) { jQuery(\".input_area\").toggle(); jQuery(\".prompt\").toggle();}});</script>', raw=True)\n",
    "\n",
    "# This line will add a button to toggle visibility of code blocks, for use with the HTML export version\n",
    "di.display_html('''<button onclick=\"jQuery('.input_area').toggle(); jQuery('.prompt').toggle();\">Toggle code</button>''', raw=True)"
   ]
  },
  {
   "cell_type": "code",
   "execution_count": 2,
   "metadata": {},
   "outputs": [
    {
     "data": {
      "text/html": [
       "\n",
       "<style>\n",
       ".output_png {\n",
       "    display: table-cell;\n",
       "    text-align: center;\n",
       "    vertical-align: middle;\n",
       "}\n",
       "</style>\n"
      ],
      "text/plain": [
       "<IPython.core.display.HTML object>"
      ]
     },
     "execution_count": 2,
     "metadata": {},
     "output_type": "execute_result"
    }
   ],
   "source": [
    "from IPython.core.display import HTML\n",
    "HTML(\"\"\"\n",
    "<style>\n",
    ".output_png {\n",
    "    display: table-cell;\n",
    "    text-align: center;\n",
    "    vertical-align: middle;\n",
    "}\n",
    "</style>\n",
    "\"\"\")"
   ]
  },
  {
   "cell_type": "code",
   "execution_count": 3,
   "metadata": {},
   "outputs": [],
   "source": [
    "#Imports\n",
    "import numpy as np\n",
    "import pandas as pd\n",
    "\n",
    "#For Graphs\n",
    "import seaborn as sns\n",
    "from matplotlib import gridspec\n",
    "import matplotlib.pyplot as plt\n",
    "%matplotlib inline\n",
    "\n",
    "#Show plotly graphs inline\n",
    "import plotly.io as pio\n",
    "pio.renderers.default = 'iframe'\n",
    "import plotly.graph_objs as go \n",
    "\n",
    "#Import mlb from scikit-learn\n",
    "from sklearn.preprocessing import MultiLabelBinarizer\n",
    "\n",
    "import warnings\n",
    "warnings.filterwarnings(\"ignore\")"
   ]
  },
  {
   "cell_type": "code",
   "execution_count": null,
   "metadata": {},
   "outputs": [],
   "source": []
  },
  {
   "cell_type": "markdown",
   "metadata": {},
   "source": [
    "## `SOURCE DATA`"
   ]
  },
  {
   "cell_type": "code",
   "execution_count": 4,
   "metadata": {},
   "outputs": [
    {
     "data": {
      "text/html": [
       "<div>\n",
       "<style scoped>\n",
       "    .dataframe tbody tr th:only-of-type {\n",
       "        vertical-align: middle;\n",
       "    }\n",
       "\n",
       "    .dataframe tbody tr th {\n",
       "        vertical-align: top;\n",
       "    }\n",
       "\n",
       "    .dataframe thead th {\n",
       "        text-align: right;\n",
       "    }\n",
       "</style>\n",
       "<table border=\"1\" class=\"dataframe\">\n",
       "  <thead>\n",
       "    <tr style=\"text-align: right;\">\n",
       "      <th></th>\n",
       "      <th>show_id</th>\n",
       "      <th>type</th>\n",
       "      <th>title</th>\n",
       "      <th>director</th>\n",
       "      <th>cast</th>\n",
       "      <th>country</th>\n",
       "      <th>date_added</th>\n",
       "      <th>release_year</th>\n",
       "      <th>rating</th>\n",
       "      <th>duration</th>\n",
       "      <th>listed_in</th>\n",
       "      <th>description</th>\n",
       "    </tr>\n",
       "  </thead>\n",
       "  <tbody>\n",
       "    <tr>\n",
       "      <th>0</th>\n",
       "      <td>s1</td>\n",
       "      <td>Movie</td>\n",
       "      <td>Dick Johnson Is Dead</td>\n",
       "      <td>Kirsten Johnson</td>\n",
       "      <td>NaN</td>\n",
       "      <td>United States</td>\n",
       "      <td>September 25, 2021</td>\n",
       "      <td>2020</td>\n",
       "      <td>PG-13</td>\n",
       "      <td>90 min</td>\n",
       "      <td>Documentaries</td>\n",
       "      <td>As her father nears the end of his life, filmm...</td>\n",
       "    </tr>\n",
       "    <tr>\n",
       "      <th>1</th>\n",
       "      <td>s2</td>\n",
       "      <td>TV Show</td>\n",
       "      <td>Blood &amp; Water</td>\n",
       "      <td>NaN</td>\n",
       "      <td>Ama Qamata, Khosi Ngema, Gail Mabalane, Thaban...</td>\n",
       "      <td>South Africa</td>\n",
       "      <td>September 24, 2021</td>\n",
       "      <td>2021</td>\n",
       "      <td>TV-MA</td>\n",
       "      <td>2 Seasons</td>\n",
       "      <td>International TV Shows, TV Dramas, TV Mysteries</td>\n",
       "      <td>After crossing paths at a party, a Cape Town t...</td>\n",
       "    </tr>\n",
       "    <tr>\n",
       "      <th>2</th>\n",
       "      <td>s3</td>\n",
       "      <td>TV Show</td>\n",
       "      <td>Ganglands</td>\n",
       "      <td>Julien Leclercq</td>\n",
       "      <td>Sami Bouajila, Tracy Gotoas, Samuel Jouy, Nabi...</td>\n",
       "      <td>NaN</td>\n",
       "      <td>September 24, 2021</td>\n",
       "      <td>2021</td>\n",
       "      <td>TV-MA</td>\n",
       "      <td>1 Season</td>\n",
       "      <td>Crime TV Shows, International TV Shows, TV Act...</td>\n",
       "      <td>To protect his family from a powerful drug lor...</td>\n",
       "    </tr>\n",
       "    <tr>\n",
       "      <th>3</th>\n",
       "      <td>s4</td>\n",
       "      <td>TV Show</td>\n",
       "      <td>Jailbirds New Orleans</td>\n",
       "      <td>NaN</td>\n",
       "      <td>NaN</td>\n",
       "      <td>NaN</td>\n",
       "      <td>September 24, 2021</td>\n",
       "      <td>2021</td>\n",
       "      <td>TV-MA</td>\n",
       "      <td>1 Season</td>\n",
       "      <td>Docuseries, Reality TV</td>\n",
       "      <td>Feuds, flirtations and toilet talk go down amo...</td>\n",
       "    </tr>\n",
       "    <tr>\n",
       "      <th>4</th>\n",
       "      <td>s5</td>\n",
       "      <td>TV Show</td>\n",
       "      <td>Kota Factory</td>\n",
       "      <td>NaN</td>\n",
       "      <td>Mayur More, Jitendra Kumar, Ranjan Raj, Alam K...</td>\n",
       "      <td>India</td>\n",
       "      <td>September 24, 2021</td>\n",
       "      <td>2021</td>\n",
       "      <td>TV-MA</td>\n",
       "      <td>2 Seasons</td>\n",
       "      <td>International TV Shows, Romantic TV Shows, TV ...</td>\n",
       "      <td>In a city of coaching centers known to train I...</td>\n",
       "    </tr>\n",
       "    <tr>\n",
       "      <th>...</th>\n",
       "      <td>...</td>\n",
       "      <td>...</td>\n",
       "      <td>...</td>\n",
       "      <td>...</td>\n",
       "      <td>...</td>\n",
       "      <td>...</td>\n",
       "      <td>...</td>\n",
       "      <td>...</td>\n",
       "      <td>...</td>\n",
       "      <td>...</td>\n",
       "      <td>...</td>\n",
       "      <td>...</td>\n",
       "    </tr>\n",
       "    <tr>\n",
       "      <th>8802</th>\n",
       "      <td>s8803</td>\n",
       "      <td>Movie</td>\n",
       "      <td>Zodiac</td>\n",
       "      <td>David Fincher</td>\n",
       "      <td>Mark Ruffalo, Jake Gyllenhaal, Robert Downey J...</td>\n",
       "      <td>United States</td>\n",
       "      <td>November 20, 2019</td>\n",
       "      <td>2007</td>\n",
       "      <td>R</td>\n",
       "      <td>158 min</td>\n",
       "      <td>Cult Movies, Dramas, Thrillers</td>\n",
       "      <td>A political cartoonist, a crime reporter and a...</td>\n",
       "    </tr>\n",
       "    <tr>\n",
       "      <th>8803</th>\n",
       "      <td>s8804</td>\n",
       "      <td>TV Show</td>\n",
       "      <td>Zombie Dumb</td>\n",
       "      <td>NaN</td>\n",
       "      <td>NaN</td>\n",
       "      <td>NaN</td>\n",
       "      <td>July 1, 2019</td>\n",
       "      <td>2018</td>\n",
       "      <td>TV-Y7</td>\n",
       "      <td>2 Seasons</td>\n",
       "      <td>Kids' TV, Korean TV Shows, TV Comedies</td>\n",
       "      <td>While living alone in a spooky town, a young g...</td>\n",
       "    </tr>\n",
       "    <tr>\n",
       "      <th>8804</th>\n",
       "      <td>s8805</td>\n",
       "      <td>Movie</td>\n",
       "      <td>Zombieland</td>\n",
       "      <td>Ruben Fleischer</td>\n",
       "      <td>Jesse Eisenberg, Woody Harrelson, Emma Stone, ...</td>\n",
       "      <td>United States</td>\n",
       "      <td>November 1, 2019</td>\n",
       "      <td>2009</td>\n",
       "      <td>R</td>\n",
       "      <td>88 min</td>\n",
       "      <td>Comedies, Horror Movies</td>\n",
       "      <td>Looking to survive in a world taken over by zo...</td>\n",
       "    </tr>\n",
       "    <tr>\n",
       "      <th>8805</th>\n",
       "      <td>s8806</td>\n",
       "      <td>Movie</td>\n",
       "      <td>Zoom</td>\n",
       "      <td>Peter Hewitt</td>\n",
       "      <td>Tim Allen, Courteney Cox, Chevy Chase, Kate Ma...</td>\n",
       "      <td>United States</td>\n",
       "      <td>January 11, 2020</td>\n",
       "      <td>2006</td>\n",
       "      <td>PG</td>\n",
       "      <td>88 min</td>\n",
       "      <td>Children &amp; Family Movies, Comedies</td>\n",
       "      <td>Dragged from civilian life, a former superhero...</td>\n",
       "    </tr>\n",
       "    <tr>\n",
       "      <th>8806</th>\n",
       "      <td>s8807</td>\n",
       "      <td>Movie</td>\n",
       "      <td>Zubaan</td>\n",
       "      <td>Mozez Singh</td>\n",
       "      <td>Vicky Kaushal, Sarah-Jane Dias, Raaghav Chanan...</td>\n",
       "      <td>India</td>\n",
       "      <td>March 2, 2019</td>\n",
       "      <td>2015</td>\n",
       "      <td>TV-14</td>\n",
       "      <td>111 min</td>\n",
       "      <td>Dramas, International Movies, Music &amp; Musicals</td>\n",
       "      <td>A scrappy but poor boy worms his way into a ty...</td>\n",
       "    </tr>\n",
       "  </tbody>\n",
       "</table>\n",
       "<p>8807 rows × 12 columns</p>\n",
       "</div>"
      ],
      "text/plain": [
       "     show_id     type                  title         director  \\\n",
       "0         s1    Movie   Dick Johnson Is Dead  Kirsten Johnson   \n",
       "1         s2  TV Show          Blood & Water              NaN   \n",
       "2         s3  TV Show              Ganglands  Julien Leclercq   \n",
       "3         s4  TV Show  Jailbirds New Orleans              NaN   \n",
       "4         s5  TV Show           Kota Factory              NaN   \n",
       "...      ...      ...                    ...              ...   \n",
       "8802   s8803    Movie                 Zodiac    David Fincher   \n",
       "8803   s8804  TV Show            Zombie Dumb              NaN   \n",
       "8804   s8805    Movie             Zombieland  Ruben Fleischer   \n",
       "8805   s8806    Movie                   Zoom     Peter Hewitt   \n",
       "8806   s8807    Movie                 Zubaan      Mozez Singh   \n",
       "\n",
       "                                                   cast        country  \\\n",
       "0                                                   NaN  United States   \n",
       "1     Ama Qamata, Khosi Ngema, Gail Mabalane, Thaban...   South Africa   \n",
       "2     Sami Bouajila, Tracy Gotoas, Samuel Jouy, Nabi...            NaN   \n",
       "3                                                   NaN            NaN   \n",
       "4     Mayur More, Jitendra Kumar, Ranjan Raj, Alam K...          India   \n",
       "...                                                 ...            ...   \n",
       "8802  Mark Ruffalo, Jake Gyllenhaal, Robert Downey J...  United States   \n",
       "8803                                                NaN            NaN   \n",
       "8804  Jesse Eisenberg, Woody Harrelson, Emma Stone, ...  United States   \n",
       "8805  Tim Allen, Courteney Cox, Chevy Chase, Kate Ma...  United States   \n",
       "8806  Vicky Kaushal, Sarah-Jane Dias, Raaghav Chanan...          India   \n",
       "\n",
       "              date_added  release_year rating   duration  \\\n",
       "0     September 25, 2021          2020  PG-13     90 min   \n",
       "1     September 24, 2021          2021  TV-MA  2 Seasons   \n",
       "2     September 24, 2021          2021  TV-MA   1 Season   \n",
       "3     September 24, 2021          2021  TV-MA   1 Season   \n",
       "4     September 24, 2021          2021  TV-MA  2 Seasons   \n",
       "...                  ...           ...    ...        ...   \n",
       "8802   November 20, 2019          2007      R    158 min   \n",
       "8803        July 1, 2019          2018  TV-Y7  2 Seasons   \n",
       "8804    November 1, 2019          2009      R     88 min   \n",
       "8805    January 11, 2020          2006     PG     88 min   \n",
       "8806       March 2, 2019          2015  TV-14    111 min   \n",
       "\n",
       "                                              listed_in  \\\n",
       "0                                         Documentaries   \n",
       "1       International TV Shows, TV Dramas, TV Mysteries   \n",
       "2     Crime TV Shows, International TV Shows, TV Act...   \n",
       "3                                Docuseries, Reality TV   \n",
       "4     International TV Shows, Romantic TV Shows, TV ...   \n",
       "...                                                 ...   \n",
       "8802                     Cult Movies, Dramas, Thrillers   \n",
       "8803             Kids' TV, Korean TV Shows, TV Comedies   \n",
       "8804                            Comedies, Horror Movies   \n",
       "8805                 Children & Family Movies, Comedies   \n",
       "8806     Dramas, International Movies, Music & Musicals   \n",
       "\n",
       "                                            description  \n",
       "0     As her father nears the end of his life, filmm...  \n",
       "1     After crossing paths at a party, a Cape Town t...  \n",
       "2     To protect his family from a powerful drug lor...  \n",
       "3     Feuds, flirtations and toilet talk go down amo...  \n",
       "4     In a city of coaching centers known to train I...  \n",
       "...                                                 ...  \n",
       "8802  A political cartoonist, a crime reporter and a...  \n",
       "8803  While living alone in a spooky town, a young g...  \n",
       "8804  Looking to survive in a world taken over by zo...  \n",
       "8805  Dragged from civilian life, a former superhero...  \n",
       "8806  A scrappy but poor boy worms his way into a ty...  \n",
       "\n",
       "[8807 rows x 12 columns]"
      ]
     },
     "execution_count": 4,
     "metadata": {},
     "output_type": "execute_result"
    }
   ],
   "source": [
    "#Read data from CSV file\n",
    "nf = pd.read_csv('netflix_titles.csv')\n",
    "nf"
   ]
  },
  {
   "cell_type": "code",
   "execution_count": null,
   "metadata": {},
   "outputs": [],
   "source": []
  },
  {
   "cell_type": "markdown",
   "metadata": {},
   "source": [
    "## `DATA CLEANING AND DATA TRANSFORMATION`"
   ]
  },
  {
   "cell_type": "markdown",
   "metadata": {},
   "source": [
    "### `1. Missing Data`"
   ]
  },
  {
   "cell_type": "code",
   "execution_count": 5,
   "metadata": {},
   "outputs": [
    {
     "data": {
      "image/png": "[encoded data removed]",
      "text/plain": [
       "<Figure size 2000x800 with 2 Axes>"
      ]
     },
     "metadata": {},
     "output_type": "display_data"
    }
   ],
   "source": [
    "plt.figure(figsize=(20, 8))\n",
    "sns.heatmap(nf.isnull())\n",
    "plt.show()"
   ]
  },
  {
   "cell_type": "code",
   "execution_count": 6,
   "metadata": {},
   "outputs": [],
   "source": [
    "### ⚠️     Notice\n",
    "#### * Large amount of director and cast are missing\n",
    "#### * Country has some data missing\n",
    "#### * Small portion of year-added is missing\n",
    "\n",
    "### 👉    Action(s)\n",
    "#### 1. Drop director, cast columns\n",
    "#### 2. Drop description because of the complex content to analyze\n",
    "#### 3. Fill missing country with US\n",
    "#### 4. Drop all other missing data because of small impacts"
   ]
  },
  {
   "cell_type": "code",
   "execution_count": 7,
   "metadata": {},
   "outputs": [],
   "source": [
    "nf.drop(['director', 'cast', 'description'], axis=1, inplace=True)\n",
    "\n",
    "# Filling all the missing values in the 'country' column with United States \n",
    "#as Netflix was created in the USA and every show is aired on Netflix US.\n",
    "nf['country'].replace(np.nan, 'United States', inplace=True)\n",
    "\n",
    "# Dropna to drop all other missing data as it conly accounts for 0.1% of the dataset\n",
    "nf.dropna(inplace=True)"
   ]
  },
  {
   "cell_type": "code",
   "execution_count": 8,
   "metadata": {},
   "outputs": [],
   "source": [
    "#Double check missing data table\n",
    "# nf.isnull().sum()/len(nf)*100\n",
    "# nf"
   ]
  },
  {
   "cell_type": "markdown",
   "metadata": {},
   "source": [
    "### `2. Data Types`"
   ]
  },
  {
   "cell_type": "markdown",
   "metadata": {},
   "source": [
    "### `2.1. Year Released/Added`"
   ]
  },
  {
   "cell_type": "code",
   "execution_count": 9,
   "metadata": {},
   "outputs": [],
   "source": [
    "# nf[['date_added', 'release_year']]"
   ]
  },
  {
   "cell_type": "markdown",
   "metadata": {},
   "source": [
    "### 👉    Action(s):\n",
    "#### 1. Extract year info in date_added\n",
    "#### 2. Change release_year to year_release for name consistency"
   ]
  },
  {
   "cell_type": "code",
   "execution_count": 10,
   "metadata": {},
   "outputs": [],
   "source": [
    "#Create new columns with year added\n",
    "format_string = \"%B %d, %Y\"\n",
    "nf['date_added'] = pd.to_datetime(nf['date_added'].str.strip(), format='%B %d, %Y', errors='coerce')\n",
    "nf['year_added'] = nf['date_added'].dt.year.dropna().apply(lambda x : int(x))\n",
    "\n",
    "#Change release_year to numeric data\n",
    "nf['year_release'] = nf['release_year'].dropna().apply(lambda x : int(x))\n",
    "\n",
    "# nf[['year_added', 'year_release']]"
   ]
  },
  {
   "cell_type": "code",
   "execution_count": 11,
   "metadata": {},
   "outputs": [],
   "source": [
    "#Drop 'date_added' and 'release_year' because we got altervatives\n",
    "nf.drop(['date_added','release_year'], axis=1, inplace=True)"
   ]
  },
  {
   "cell_type": "markdown",
   "metadata": {},
   "source": [
    "### `2.2. Duration`"
   ]
  },
  {
   "cell_type": "code",
   "execution_count": 12,
   "metadata": {},
   "outputs": [],
   "source": [
    "#Function to count the number of contents having \"minutes\" as duration \n",
    "#1: min\n",
    "#0: seasons\n",
    "def count(duration):\n",
    "    x = 0\n",
    "    if 'min' in duration:\n",
    "        x += 1\n",
    "    return x\n",
    "\n",
    "dur = nf['duration'].dropna().apply(lambda x: count(x))\n",
    "# nf['duration'].dropna()"
   ]
  },
  {
   "cell_type": "markdown",
   "metadata": {},
   "source": [
    "### 👉 Action(s)\n",
    "#### 1. Add column 'season'\n",
    "#### 2. Classify 'duration' into 2 columns: duration (minutes) and season(s)"
   ]
  },
  {
   "cell_type": "code",
   "execution_count": 13,
   "metadata": {},
   "outputs": [],
   "source": [
    "nf['season'] = nf['duration'].dropna().apply(lambda x: x[:2] if ('Season' in x or 'Seasons' in x) else 0)\n",
    "\n",
    "#Return only number of minutes / \"0\" if it contains season in duration\n",
    "nf['duration'] = nf['duration'].dropna().apply(lambda x: x[:-4] if 'min' in x else 0)\n",
    "\n",
    "#Change duration from object to int\n",
    "#0 min --> 1969 has at least 1 season\n",
    "nf['duration'] = pd.to_numeric(nf['duration'])\n",
    "\n",
    "#Change season int\n",
    "#0 season --> 4265 contents have 1 episode\n",
    "nf['season'] = pd.to_numeric(nf['season'])\n",
    "\n",
    "# nf[['duration', 'season']]"
   ]
  },
  {
   "cell_type": "markdown",
   "metadata": {},
   "source": [
    "### `Data After Cleaning and Transformation`"
   ]
  },
  {
   "cell_type": "code",
   "execution_count": 14,
   "metadata": {},
   "outputs": [
    {
     "data": {
      "text/html": [
       "<div>\n",
       "<style scoped>\n",
       "    .dataframe tbody tr th:only-of-type {\n",
       "        vertical-align: middle;\n",
       "    }\n",
       "\n",
       "    .dataframe tbody tr th {\n",
       "        vertical-align: top;\n",
       "    }\n",
       "\n",
       "    .dataframe thead th {\n",
       "        text-align: right;\n",
       "    }\n",
       "</style>\n",
       "<table border=\"1\" class=\"dataframe\">\n",
       "  <thead>\n",
       "    <tr style=\"text-align: right;\">\n",
       "      <th></th>\n",
       "      <th>show_id</th>\n",
       "      <th>type</th>\n",
       "      <th>title</th>\n",
       "      <th>country</th>\n",
       "      <th>rating</th>\n",
       "      <th>duration</th>\n",
       "      <th>listed_in</th>\n",
       "      <th>year_added</th>\n",
       "      <th>year_release</th>\n",
       "      <th>season</th>\n",
       "    </tr>\n",
       "  </thead>\n",
       "  <tbody>\n",
       "    <tr>\n",
       "      <th>0</th>\n",
       "      <td>s1</td>\n",
       "      <td>Movie</td>\n",
       "      <td>Dick Johnson Is Dead</td>\n",
       "      <td>United States</td>\n",
       "      <td>PG-13</td>\n",
       "      <td>90</td>\n",
       "      <td>Documentaries</td>\n",
       "      <td>2021</td>\n",
       "      <td>2020</td>\n",
       "      <td>0</td>\n",
       "    </tr>\n",
       "    <tr>\n",
       "      <th>1</th>\n",
       "      <td>s2</td>\n",
       "      <td>TV Show</td>\n",
       "      <td>Blood &amp; Water</td>\n",
       "      <td>South Africa</td>\n",
       "      <td>TV-MA</td>\n",
       "      <td>0</td>\n",
       "      <td>International TV Shows, TV Dramas, TV Mysteries</td>\n",
       "      <td>2021</td>\n",
       "      <td>2021</td>\n",
       "      <td>2</td>\n",
       "    </tr>\n",
       "    <tr>\n",
       "      <th>2</th>\n",
       "      <td>s3</td>\n",
       "      <td>TV Show</td>\n",
       "      <td>Ganglands</td>\n",
       "      <td>United States</td>\n",
       "      <td>TV-MA</td>\n",
       "      <td>0</td>\n",
       "      <td>Crime TV Shows, International TV Shows, TV Act...</td>\n",
       "      <td>2021</td>\n",
       "      <td>2021</td>\n",
       "      <td>1</td>\n",
       "    </tr>\n",
       "    <tr>\n",
       "      <th>3</th>\n",
       "      <td>s4</td>\n",
       "      <td>TV Show</td>\n",
       "      <td>Jailbirds New Orleans</td>\n",
       "      <td>United States</td>\n",
       "      <td>TV-MA</td>\n",
       "      <td>0</td>\n",
       "      <td>Docuseries, Reality TV</td>\n",
       "      <td>2021</td>\n",
       "      <td>2021</td>\n",
       "      <td>1</td>\n",
       "    </tr>\n",
       "    <tr>\n",
       "      <th>4</th>\n",
       "      <td>s5</td>\n",
       "      <td>TV Show</td>\n",
       "      <td>Kota Factory</td>\n",
       "      <td>India</td>\n",
       "      <td>TV-MA</td>\n",
       "      <td>0</td>\n",
       "      <td>International TV Shows, Romantic TV Shows, TV ...</td>\n",
       "      <td>2021</td>\n",
       "      <td>2021</td>\n",
       "      <td>2</td>\n",
       "    </tr>\n",
       "    <tr>\n",
       "      <th>...</th>\n",
       "      <td>...</td>\n",
       "      <td>...</td>\n",
       "      <td>...</td>\n",
       "      <td>...</td>\n",
       "      <td>...</td>\n",
       "      <td>...</td>\n",
       "      <td>...</td>\n",
       "      <td>...</td>\n",
       "      <td>...</td>\n",
       "      <td>...</td>\n",
       "    </tr>\n",
       "    <tr>\n",
       "      <th>8802</th>\n",
       "      <td>s8803</td>\n",
       "      <td>Movie</td>\n",
       "      <td>Zodiac</td>\n",
       "      <td>United States</td>\n",
       "      <td>R</td>\n",
       "      <td>158</td>\n",
       "      <td>Cult Movies, Dramas, Thrillers</td>\n",
       "      <td>2019</td>\n",
       "      <td>2007</td>\n",
       "      <td>0</td>\n",
       "    </tr>\n",
       "    <tr>\n",
       "      <th>8803</th>\n",
       "      <td>s8804</td>\n",
       "      <td>TV Show</td>\n",
       "      <td>Zombie Dumb</td>\n",
       "      <td>United States</td>\n",
       "      <td>TV-Y7</td>\n",
       "      <td>0</td>\n",
       "      <td>Kids' TV, Korean TV Shows, TV Comedies</td>\n",
       "      <td>2019</td>\n",
       "      <td>2018</td>\n",
       "      <td>2</td>\n",
       "    </tr>\n",
       "    <tr>\n",
       "      <th>8804</th>\n",
       "      <td>s8805</td>\n",
       "      <td>Movie</td>\n",
       "      <td>Zombieland</td>\n",
       "      <td>United States</td>\n",
       "      <td>R</td>\n",
       "      <td>88</td>\n",
       "      <td>Comedies, Horror Movies</td>\n",
       "      <td>2019</td>\n",
       "      <td>2009</td>\n",
       "      <td>0</td>\n",
       "    </tr>\n",
       "    <tr>\n",
       "      <th>8805</th>\n",
       "      <td>s8806</td>\n",
       "      <td>Movie</td>\n",
       "      <td>Zoom</td>\n",
       "      <td>United States</td>\n",
       "      <td>PG</td>\n",
       "      <td>88</td>\n",
       "      <td>Children &amp; Family Movies, Comedies</td>\n",
       "      <td>2020</td>\n",
       "      <td>2006</td>\n",
       "      <td>0</td>\n",
       "    </tr>\n",
       "    <tr>\n",
       "      <th>8806</th>\n",
       "      <td>s8807</td>\n",
       "      <td>Movie</td>\n",
       "      <td>Zubaan</td>\n",
       "      <td>India</td>\n",
       "      <td>TV-14</td>\n",
       "      <td>111</td>\n",
       "      <td>Dramas, International Movies, Music &amp; Musicals</td>\n",
       "      <td>2019</td>\n",
       "      <td>2015</td>\n",
       "      <td>0</td>\n",
       "    </tr>\n",
       "  </tbody>\n",
       "</table>\n",
       "<p>8790 rows × 10 columns</p>\n",
       "</div>"
      ],
      "text/plain": [
       "     show_id     type                  title        country rating  duration  \\\n",
       "0         s1    Movie   Dick Johnson Is Dead  United States  PG-13        90   \n",
       "1         s2  TV Show          Blood & Water   South Africa  TV-MA         0   \n",
       "2         s3  TV Show              Ganglands  United States  TV-MA         0   \n",
       "3         s4  TV Show  Jailbirds New Orleans  United States  TV-MA         0   \n",
       "4         s5  TV Show           Kota Factory          India  TV-MA         0   \n",
       "...      ...      ...                    ...            ...    ...       ...   \n",
       "8802   s8803    Movie                 Zodiac  United States      R       158   \n",
       "8803   s8804  TV Show            Zombie Dumb  United States  TV-Y7         0   \n",
       "8804   s8805    Movie             Zombieland  United States      R        88   \n",
       "8805   s8806    Movie                   Zoom  United States     PG        88   \n",
       "8806   s8807    Movie                 Zubaan          India  TV-14       111   \n",
       "\n",
       "                                              listed_in  year_added  \\\n",
       "0                                         Documentaries        2021   \n",
       "1       International TV Shows, TV Dramas, TV Mysteries        2021   \n",
       "2     Crime TV Shows, International TV Shows, TV Act...        2021   \n",
       "3                                Docuseries, Reality TV        2021   \n",
       "4     International TV Shows, Romantic TV Shows, TV ...        2021   \n",
       "...                                                 ...         ...   \n",
       "8802                     Cult Movies, Dramas, Thrillers        2019   \n",
       "8803             Kids' TV, Korean TV Shows, TV Comedies        2019   \n",
       "8804                            Comedies, Horror Movies        2019   \n",
       "8805                 Children & Family Movies, Comedies        2020   \n",
       "8806     Dramas, International Movies, Music & Musicals        2019   \n",
       "\n",
       "      year_release  season  \n",
       "0             2020       0  \n",
       "1             2021       2  \n",
       "2             2021       1  \n",
       "3             2021       1  \n",
       "4             2021       2  \n",
       "...            ...     ...  \n",
       "8802          2007       0  \n",
       "8803          2018       2  \n",
       "8804          2009       0  \n",
       "8805          2006       0  \n",
       "8806          2015       0  \n",
       "\n",
       "[8790 rows x 10 columns]"
      ]
     },
     "execution_count": 14,
     "metadata": {},
     "output_type": "execute_result"
    }
   ],
   "source": [
    "nf"
   ]
  },
  {
   "cell_type": "code",
   "execution_count": null,
   "metadata": {},
   "outputs": [],
   "source": []
  },
  {
   "cell_type": "markdown",
   "metadata": {},
   "source": [
    "## `EXPLORATORY DATA ANALYSIS`"
   ]
  },
  {
   "cell_type": "markdown",
   "metadata": {},
   "source": [
    "### `1. Movies and TV shows Across Countries`"
   ]
  },
  {
   "cell_type": "markdown",
   "metadata": {},
   "source": [
    "### `1.1. Distribution of Contents and Top 10 Countries`"
   ]
  },
  {
   "cell_type": "code",
   "execution_count": 15,
   "metadata": {},
   "outputs": [],
   "source": [
    "#### Notice:\n",
    "##### * Some are combination of many countries\n",
    "\n",
    "from collections import Counter\n",
    "country_data = nf['country']\n",
    "\n",
    "#Split the input due to lists of many countries\n",
    "country = ','.join(country_data).replace(' ,',',').replace(', ',',').split(',')\n",
    "\n",
    "count = Counter(country)\n",
    "#count\n",
    "country_count = pd.Series(dict(count)).sort_values(ascending=False)\n",
    "\n",
    "#TOP 10 Countries\n",
    "top10_country = country_count.head(10)\n",
    "# top10_country\n",
    "# nf['country'].values"
   ]
  },
  {
   "cell_type": "code",
   "execution_count": null,
   "metadata": {},
   "outputs": [],
   "source": [
    "fig = plt.figure(figsize=(20, 8))\n",
    "plt.rcParams.update({'font.size': 16})\n",
    "gs = gridspec.GridSpec(nrows=1, ncols=2, height_ratios=[6], width_ratios=[10, 10])\n",
    "\n",
    "# Chart of Distribution of 2 Types\n",
    "axes1 = plt.subplot(gs[0])\n",
    "patches, texts, autotexts  = plt.pie(x=nf['type'].value_counts(), labels=nf['type'].value_counts().index, \n",
    "        colors=sns.color_palette(\"crest\", n_colors=2), autopct = '%1.2f%%')\n",
    "axes1.axis('equal')\n",
    "plt.title('Distribution of Movies and TV Shows', fontweight='bold', y=-0.15)\n",
    "\n",
    "# Top 10 Countries with most contents\n",
    "axes2 = plt.subplot(gs[1])\n",
    "patches1, texts1, autotexts1 = axes2.pie(top10_country, labels=top10_country.index, \n",
    "          colors=sns.color_palette(\"Spectral\", n_colors=10), autopct='%1.2f%%')\n",
    "axes2.axis('equal')\n",
    "plt.title('Top 10 Countries with Most Content', fontweight='bold', y=-0.15)\n",
    "\n",
    "# Set autotext label properties\n",
    "for autotext in autotexts:\n",
    "    autotext.set_color('white')\n",
    "    autotext.set_fontsize(17)\n",
    "    \n",
    "plt.show()"
   ]
  },
  {
   "cell_type": "markdown",
   "metadata": {},
   "source": [
    "### `1.2. Top 10 Countries: Comparison between Movie and TV Shows`"
   ]
  },
  {
   "cell_type": "code",
   "execution_count": null,
   "metadata": {},
   "outputs": [],
   "source": [
    "#Concatenate dataframes of top 10 countries from original dataset into a new data frame called top_10\n",
    "top_10=nf[(nf['country']=='United States')|(nf['country']=='India')|(nf['country']=='United Kingdom')|\n",
    "          (nf['country']=='Japan')|(nf['country']=='Canada')|(nf['country']=='Spain')|(nf['country']=='France')|\n",
    "          (nf['country']=='South Korea')|(nf['country']=='Germany')|(nf['country']=='Mexico')]\n",
    "# top_10.head()"
   ]
  },
  {
   "cell_type": "code",
   "execution_count": null,
   "metadata": {},
   "outputs": [],
   "source": [
    "#Graph showing the distribution of Movies and Tv Shows in each country of top 10, then the comparison\n",
    "plt.figure(figsize=(20,8))\n",
    "sns.set(font_scale=1.5)\n",
    "sns.countplot(x='country',hue='type',data=top_10, order=top10_country.index, palette=\"crest\")\n",
    "plt.title('Comparison between Movies and TV Shows Across Top 10 Countries', fontweight='bold', y=1.05)\n",
    "plt.show()"
   ]
  },
  {
   "cell_type": "code",
   "execution_count": null,
   "metadata": {},
   "outputs": [],
   "source": [
    "#### Notice:\n",
    "##### * Number of movies is about 2 times number of TV shows in US, Canada, France, Spain, Germany, and Mexico\n",
    "##### * Number of movies is about 8 times number of TV shows in India and approximately the same in UK\n",
    "##### * It reverses in Japan and South Korea: Number of movies is about 1/3-1/2 number of TV shows\n",
    "##### * Need to consider the lists of many countries\n"
   ]
  },
  {
   "cell_type": "markdown",
   "metadata": {},
   "source": [
    "### "
   ]
  },
  {
   "cell_type": "markdown",
   "metadata": {},
   "source": [
    "### `2. Relationship between Contents Released Years vs. Added Years  `"
   ]
  },
  {
   "cell_type": "code",
   "execution_count": null,
   "metadata": {},
   "outputs": [],
   "source": [
    "#Create 2 new DF to seperate TV Shows and Movies\n",
    "df_show =  nf[nf['type']=='TV Show']\n",
    "df_movie =  nf[nf['type']=='Movie']\n",
    "\n",
    "#Create df for the above information\n",
    "# nf_content_added = nf['year_added'].value_counts().reset_index().rename(columns={'index':'year_added', 'year_added':'count'})\n",
    "# nf_content_released = nf['year_release'].value_counts().reset_index().rename(columns={'index':'year_release', 'year_release':'count'})\n",
    "\n",
    "#Add percent column to get better view of how much the year accounts for\n",
    "# nf_content_added = nf_content_added.sort_values('year_added')\n",
    "# nf_content['percent'] = nf_content['count'].apply(lambda x : 100*x/sum(nf_content['count']))\n",
    "# nf_content\n",
    "\n",
    "def contents_count(df):\n",
    "    # Create a list of unique years from 'year_added' and 'year_release'\n",
    "    unique_years = sorted(set(df['year_added']).union(set(df['year_release'])))\n",
    "\n",
    "    # Initialize empty lists for counts of 'year_added' and 'year_release'\n",
    "    add_counts = []\n",
    "    release_counts = []\n",
    "    years = []\n",
    "\n",
    "    # Iterate through the unique years\n",
    "    for year in unique_years:\n",
    "        if year >= 2013: \n",
    "            years.append(year)\n",
    "            add_count = df[df['year_added'] == year]['year_added'].count()\n",
    "            release_count = df[df['year_release'] == year]['year_release'].count()\n",
    "            add_counts.append(add_count)\n",
    "            release_counts.append(release_count)\n",
    "\n",
    "    # Create a dataframe with the collected data\n",
    "    df_counts = pd.DataFrame({'year': years, 'add_count': add_counts, 'release_count': release_counts})\n",
    "    return df_counts\n",
    "\n",
    "movie_counts = contents_count(df_movie)\n",
    "show_counts = contents_count(df_show)"
   ]
  },
  {
   "cell_type": "code",
   "execution_count": null,
   "metadata": {},
   "outputs": [],
   "source": [
    "#Create interactive graph to visualize number of contents added/released over years\n",
    "p1 = go.Scatter(x=movie_counts['year'], y=movie_counts[\"add_count\"], name=\"Movies Added\", marker=dict(color=\"#a678de\"))\n",
    "p2 = go.Scatter(x=show_counts['year'], y=show_counts[\"add_count\"], name=\"TV Shows Added\", marker=dict(color=\"#6ad49b\"))\n",
    "p3 = go.Scatter(x=movie_counts['year'], y=movie_counts[\"release_count\"], name=\"Movies Released\", marker=dict(color=\"#a678de\"), line=dict(dash='dash'))\n",
    "p4 = go.Scatter(x=show_counts['year'], y=show_counts[\"release_count\"], name=\"TV Shows Released\", marker=dict(color=\"#6ad49b\"), line=dict(dash='dash'))\n",
    "\n",
    "layout = go.Layout(title=\"<b>Contents Released vs. Added to Netflix from 2013 to 2021\", title_x=0.5,\n",
    "                   font=dict(family=\"Arial\",size=14, color='black'),\n",
    "                   legend=dict(x=0.1, y=1.1, orientation=\"h\"))\n",
    "\n",
    "fig = go.Figure(data=[p1,p3,p2,p4], layout=layout)\n",
    "\n",
    "fig.update_layout(\n",
    "    height=600,\n",
    "    font=dict(\n",
    "        size=15\n",
    "    )\n",
    ")\n",
    "fig.show()"
   ]
  },
  {
   "cell_type": "code",
   "execution_count": null,
   "metadata": {},
   "outputs": [],
   "source": [
    "### ⚠️ Notice\n",
    "#### * The growth in content started from 2013\n",
    "#### * The growth in number of movies is much higher than that of TV shows on Netflix --> Netflix is focusing on Movies\n",
    "#### * More than 1200 new movies were added in both 2018 and 2019\n",
    "#### * Decreasing is seen in 2020 and after that \n"
   ]
  },
  {
   "cell_type": "code",
   "execution_count": null,
   "metadata": {},
   "outputs": [],
   "source": [
    "#### Notice:\n",
    "##### * The highest increase in producing movies is in 2017, and in 2020 for TV shows\n",
    "##### * It looks like the trend of contents released and added are similar --> Netflix added new contents"
   ]
  },
  {
   "cell_type": "markdown",
   "metadata": {},
   "source": [
    "### "
   ]
  },
  {
   "cell_type": "markdown",
   "metadata": {},
   "source": [
    "### `3. Availability of Content for Different Age Groups: Kids, Teenagers, Adults`"
   ]
  },
  {
   "cell_type": "code",
   "execution_count": null,
   "metadata": {},
   "outputs": [],
   "source": [
    "# Understanding Netflix rating based on ages\n",
    "ages = {'TV-PG': 'Kids',\n",
    "        'TV-MA': 'Adults',\n",
    "        'TV-Y7-FV': 'Kids',\n",
    "        'TV-Y7': 'Kids',\n",
    "        'TV-14': 'Teens',\n",
    "        'R': 'Adults',\n",
    "        'TV-Y': 'Kids',\n",
    "        'NR': 'Adults',\n",
    "        'PG-13': 'Teens',\n",
    "        'TV-G': 'Kids',\n",
    "        'PG': 'Kids',\n",
    "        'G': 'Kids',\n",
    "        'UR': 'Adults',\n",
    "        'NC-17': 'Adults'\n",
    "}"
   ]
  },
  {
   "cell_type": "code",
   "execution_count": null,
   "metadata": {
    "scrolled": true
   },
   "outputs": [],
   "source": [
    "#Replace the existed rating with an easier term as in the list\n",
    "nf['ages'] = nf['rating'].replace(ages)\n",
    "# nf['ages']"
   ]
  },
  {
   "cell_type": "code",
   "execution_count": null,
   "metadata": {},
   "outputs": [],
   "source": [
    "# Group nf['rating'] and ['ages'], count number of show_id(s) in them\n",
    "rating_nf = nf.groupby(['rating', 'ages']).agg({'show_id': 'count'}).reset_index()\n",
    "\n",
    "# Change column's name\n",
    "rating_nf.columns = ['rating', 'ages', 'counts']\n",
    "\n",
    "# Group data by ages\n",
    "rating_nf = rating_nf.sort_values('ages')\n",
    "# rating_nf"
   ]
  },
  {
   "cell_type": "code",
   "execution_count": null,
   "metadata": {},
   "outputs": [],
   "source": [
    "#List of Netflix ratings\n",
    "group_ages = [\"G\", \"TV-G\", \"TV-Y\", \"PG\", \"TV-PG\", \"TV-Y7\", \"TV-Y7-FV\",\n",
    "              \"PG-13\", \"TV-14\", 'NC-17', \"NR\", \"R\", \"TV-MA\", \"UR\"]\n",
    "age_order = {'Kids':0, 'Teens':1, 'Adults':2}"
   ]
  },
  {
   "cell_type": "code",
   "execution_count": null,
   "metadata": {},
   "outputs": [],
   "source": [
    "#Graph showing the distribution of Netflix ratings which are colored by normal terms\n",
    "plt.figure(figsize=(20,8))\n",
    "sns.set(font_scale=1.5)\n",
    "sns.barplot(x='rating', y='counts', data=rating_nf, hue='ages', order=group_ages,\n",
    "            hue_order=['Kids', 'Teens', 'Adults'], \n",
    "            palette=\"rocket_r\", dodge=False)\n",
    "plt.title(\"Content Ratings Distribution Across Different Age Groups\", fontweight='bold', y=1.05)"
   ]
  },
  {
   "cell_type": "code",
   "execution_count": null,
   "metadata": {},
   "outputs": [],
   "source": [
    "#### Notice:\n",
    "##### * Most of shows are for teens and adults, small portions are for kids.\n",
    "#### Question: How about each type of contents?"
   ]
  },
  {
   "cell_type": "code",
   "execution_count": null,
   "metadata": {},
   "outputs": [],
   "source": [
    "#Recreat 2 dfs with updated ages column\n",
    "nf_tv =  nf[nf['type']=='TV Show']\n",
    "nf_movie =  nf[nf['type']=='Movie']\n",
    "# nf_movie.head()"
   ]
  },
  {
   "cell_type": "code",
   "execution_count": null,
   "metadata": {},
   "outputs": [],
   "source": [
    "#DF of movie rating with different ages and count\n",
    "movie_rating = nf_movie.groupby(['ages']).agg({'show_id': 'count'}).reset_index()\n",
    "movie_rating.columns = ['ages', 'count']\n",
    "movie_rating = movie_rating.sort_values(by=['ages'], key=lambda x: x.map(age_order))\n",
    "# movie_rating"
   ]
  },
  {
   "cell_type": "code",
   "execution_count": null,
   "metadata": {},
   "outputs": [],
   "source": [
    "#DF of TV Shows rating with different ages and count\n",
    "tv_rating = nf_tv.groupby(['ages']).agg({'show_id': 'count'}).reset_index()\n",
    "tv_rating.columns = ['ages', 'count']\n",
    "tv_rating = tv_rating.sort_values(by=['ages'], key=lambda x: x.map(age_order))\n",
    "# tv_rating"
   ]
  },
  {
   "cell_type": "code",
   "execution_count": null,
   "metadata": {},
   "outputs": [],
   "source": [
    "#Graph showing distribution of ages in each type, then comparison\n",
    "fig,axes = plt.subplots(nrows=1,ncols=2, figsize=(20,8))\n",
    "plt.rcParams.update({'font.size': 13})\n",
    "    \n",
    "data = [movie_rating, tv_rating]\n",
    "titles = ['Distribution of Movies Rating', 'Distribution of TV Shows Rating']\n",
    "\n",
    "# Loop through the data and titles to create pie charts\n",
    "for i, (df, title) in enumerate(zip(data, titles)):\n",
    "    patches, texts, autotexts = axes[i].pie(x=df['count'], labels=df['ages'],\n",
    "                                            autopct='%1.2f%%', colors=sns.color_palette(\"rocket_r\", n_colors=3))\n",
    "    axes[i].set_title(title, fontweight=\"bold\", y=-0.03)\n",
    "    \n",
    "    for autotext in autotexts:\n",
    "        autotext.set_color('white')\n",
    "        autotext.set_fontsize(15)"
   ]
  },
  {
   "cell_type": "code",
   "execution_count": null,
   "metadata": {},
   "outputs": [],
   "source": [
    "### ⚠️ Notice\n",
    "#### * Both pies show largest amount of content for Adults\n",
    "#### * More of TV shows are added for kids than movies."
   ]
  },
  {
   "cell_type": "markdown",
   "metadata": {},
   "source": [
    "### "
   ]
  },
  {
   "cell_type": "markdown",
   "metadata": {},
   "source": [
    "### `4. Correlation between Age Groups and Duration/Length of Contents`\n"
   ]
  },
  {
   "cell_type": "code",
   "execution_count": null,
   "metadata": {},
   "outputs": [],
   "source": [
    "#DF of duration in min\n",
    "duration_movie = nf[nf['duration'] != 0]\n",
    "# duration_movie.head(2)"
   ]
  },
  {
   "cell_type": "code",
   "execution_count": null,
   "metadata": {},
   "outputs": [],
   "source": [
    "##### Notice: \n",
    "# * All movies have duration in minutes \n",
    "# * All TV shows have duration in season(s)\n",
    "\n",
    "# duration_movie[duration_movie[\"season\"] == 1].info()"
   ]
  },
  {
   "cell_type": "code",
   "execution_count": null,
   "metadata": {},
   "outputs": [],
   "source": [
    "#Graph showing distribution of length of movie, distinguished by the normal ages\n",
    "plt.figure(figsize=(20,8))\n",
    "sns.set(font_scale=1.5)\n",
    "sns.histplot(x='duration', data=duration_movie, bins=30, \n",
    "             hue='ages', hue_order=['Kids', 'Teens', 'Adults'], \n",
    "             palette=\"magma_r\")\n",
    "plt.title('Distribution of Duration (in Minutes) of Movies',fontweight=\"bold\", y=1.05)\n",
    "plt.show()"
   ]
  },
  {
   "cell_type": "code",
   "execution_count": null,
   "metadata": {},
   "outputs": [],
   "source": [
    "### ⚠️ Notice\n",
    "#### * Most of movies are in range from 80 min to 2 hours. These movies are mostly for adults.\n",
    "#### * Longer movies are made for teenagers and kids."
   ]
  },
  {
   "cell_type": "code",
   "execution_count": null,
   "metadata": {},
   "outputs": [],
   "source": [
    "duration_tv = nf[nf['season'] != 0]\n",
    "# nf[nf['season'] != 0]"
   ]
  },
  {
   "cell_type": "code",
   "execution_count": null,
   "metadata": {},
   "outputs": [],
   "source": [
    "#Graph showing distribution of length of movie, distinguished by the normal ages\n",
    "plt.figure(figsize=(20,8))\n",
    "sns.set(font_scale=1.5)\n",
    "sns.countplot(x='season', data=duration_tv, hue='ages', hue_order=['Kids', 'Teens', 'Adults'], palette=\"rocket_r\")\n",
    "plt.title('Distribution of Duration (in Season) of TV Shows',fontweight=\"bold\", y=1.05)\n",
    "plt.legend(loc='upper right')\n",
    "plt.show()"
   ]
  },
  {
   "cell_type": "code",
   "execution_count": null,
   "metadata": {},
   "outputs": [],
   "source": [
    "#### Notice:\n",
    "##### * Most of TV shows have 1 season. The amount decreases in longer seasons (from 8 to 17).\n",
    "##### * The distribution of length of TV shows is approximatly the same for teens and kids.\n",
    "##### * Short TV shows for adults take a large amount ammong 3 groups."
   ]
  },
  {
   "cell_type": "markdown",
   "metadata": {},
   "source": [
    "\n"
   ]
  },
  {
   "cell_type": "markdown",
   "metadata": {},
   "source": [
    "### `5. Genre of Different Types of Movies and TV Shows`"
   ]
  },
  {
   "cell_type": "code",
   "execution_count": null,
   "metadata": {},
   "outputs": [],
   "source": [
    "mlb = MultiLabelBinarizer()"
   ]
  },
  {
   "cell_type": "code",
   "execution_count": null,
   "metadata": {},
   "outputs": [],
   "source": [
    "#Fuction to find number of different kinds(\"listed_in\") of each content(movies/TV Shows)\n",
    "def count(nf, content):\n",
    "    #Split the list in original content\n",
    "    nf['genre'] = nf['listed_in'].apply(lambda x :  x.replace(' ,',',').replace(', ',',').split(',')) \n",
    "\n",
    "    #nf['genre'] contains lists --> loop through to get number of unique \n",
    "    kinds = []\n",
    "    for i in nf['genre']: \n",
    "        kinds += i\n",
    "    kinds = set(kinds)\n",
    "    \n",
    "    return \"There are {} types in the Netflix {} Dataset\".format(len(kinds),content)   "
   ]
  },
  {
   "cell_type": "code",
   "execution_count": null,
   "metadata": {},
   "outputs": [],
   "source": [
    "#Fuction for relation heatmap showing the relationship between different kinds\n",
    "def relation_heatmap(nf, content, cmap_color):\n",
    "    #Fit the label sets binarizer and transform the given label sets.\n",
    "    x = mlb.fit_transform(nf['genre'])\n",
    "    \n",
    "    #A copy of the classes parameter when provided\n",
    "    y = mlb.classes_\n",
    "    \n",
    "    #Create new df for correlation\n",
    "    df = pd.DataFrame(x, columns=y, index=nf['genre'].index)\n",
    "    corr = df.corr()\n",
    "    \n",
    "    mask = np.zeros_like(corr, dtype=bool)\n",
    "    mask[np.triu_indices_from(mask)] = True\n",
    "    fig, ax = plt.subplots(figsize=(15, 5))\n",
    "    sns.set(font_scale=1)\n",
    "    pl = sns.heatmap(corr, mask = mask, cmap= cmap_color, vmin=-.5, vmax=.5,square=True, linewidths=.7)\n",
    "    plt.title(content + \" Genre\", fontweight='bold', y=1.05)\n",
    "    plt.show()"
   ]
  },
  {
   "cell_type": "code",
   "execution_count": null,
   "metadata": {},
   "outputs": [],
   "source": [
    "count(nf_movie, 'Movie')"
   ]
  },
  {
   "cell_type": "code",
   "execution_count": null,
   "metadata": {},
   "outputs": [],
   "source": [
    "relation_heatmap(nf_movie, 'Movie', \"viridis\")"
   ]
  },
  {
   "cell_type": "code",
   "execution_count": null,
   "metadata": {},
   "outputs": [],
   "source": [
    "#### Notice:\n",
    "##### * There is negative relationship between drama and documentary.\n",
    "##### * Many Sci-Fi & Fantasy movies are in Action & Adventure\n",
    "##### * Positive relationship between Horror Movies and Thrillers"
   ]
  },
  {
   "cell_type": "code",
   "execution_count": null,
   "metadata": {},
   "outputs": [],
   "source": [
    "count(nf_tv, 'TV Show')"
   ]
  },
  {
   "cell_type": "code",
   "execution_count": null,
   "metadata": {},
   "outputs": [],
   "source": [
    "relation_heatmap(nf_tv, 'TV Show', \"viridis\")"
   ]
  },
  {
   "cell_type": "code",
   "execution_count": null,
   "metadata": {},
   "outputs": [],
   "source": [
    "#### Notice:\n",
    "##### * Negative relationship between Kids' TV and International TV shows, but good amount of International TV shows are Romatic TV shows or TV Dramas\n",
    "##### * There are many Documentaries for Science and Nature TV.\n",
    "##### * There's positive correlation between TV Horror and TV Mysteries"
   ]
  },
  {
   "cell_type": "code",
   "execution_count": null,
   "metadata": {},
   "outputs": [],
   "source": [
    "fig, axes = plt.subplots(1, 2, figsize=(20, 6), sharey=True)\n",
    "# plt.rcParams.update({'font.size': 18})\n",
    "fig.subplots_adjust(wspace=0.2)  # Adjust horizontal spacing between subplots\n",
    "\n",
    "# List of dataframes\n",
    "dataframes = [nf_movie, nf_tv]\n",
    "titles = [\"Top 10 Genre in Movies\", \"Top 10 Genre in TV Shows\"]\n",
    "\n",
    "# Iterate through dataframes and axes\n",
    "for ax, df, title in zip(axes, dataframes, titles):\n",
    "    sns.set(font_scale=1.5)\n",
    "    sns.barplot(ax=ax,\n",
    "                x=df[\"listed_in\"].value_counts().head(10).index,\n",
    "                y=df[\"listed_in\"].value_counts().head(10).values, palette=\"viridis\")\n",
    "    ax.set_title(title, fontweight='bold', y=1.05)\n",
    "    ax.set_xticklabels(ax.get_xticklabels(), rotation=45, ha=\"right\")  # Rotate and align x-axis labels\n",
    "\n",
    "plt.show()"
   ]
  },
  {
   "cell_type": "code",
   "execution_count": null,
   "metadata": {},
   "outputs": [],
   "source": [
    "#### Notice:\n",
    "##### * Most common movies are in Dramas and International Movies, Documentaries, Stand-Up Comedy\n",
    "##### * Most of TV shows are Kids' TV, International TV Shows, and TV Dramas"
   ]
  },
  {
   "cell_type": "code",
   "execution_count": null,
   "metadata": {},
   "outputs": [],
   "source": []
  }
 ],
 "metadata": {
  "kernelspec": {
   "display_name": "Python 3 (ipykernel)",
   "language": "python",
   "name": "python3"
  },
  "language_info": {
   "codemirror_mode": {
    "name": "ipython",
    "version": 3
   },
   "file_extension": ".py",
   "mimetype": "text/x-python",
   "name": "python",
   "nbconvert_exporter": "python",
   "pygments_lexer": "ipython3",
   "version": "3.11.4"
  }
 },
 "nbformat": 4,
 "nbformat_minor": 4
}
